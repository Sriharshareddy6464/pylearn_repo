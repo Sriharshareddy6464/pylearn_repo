{
 "cells": [
  {
   "cell_type": "markdown",
   "id": "ee37cb2f-213f-4b58-b786-fcb365ffa51a",
   "metadata": {},
   "source": [
    "<h1>Datatypes</h1><br>\n",
    "Python Data types are the classification or categorization of data items. It represents the kind of value that tells what operations can be performed on a particular data. Since everything is an object in Python programming, Python data types are classes and variables are instances (objects) of these classes. The following are the standard or built-in data types in Python:<br>\n",
    "<br>\n",
    "Numeric - int, float, complex<br>\n",
    "Sequence Type - string, list, tuple<br>\n",
    "Mapping Type - dict<br>\n",
    "Boolean - bool<br>\n",
    "Set Type - set, frozenset<br>\n",
    "Binary Types - bytes, bytearray, memoryview<br>"
   ]
  },
  {
   "cell_type": "code",
   "execution_count": 1,
   "id": "c2293a02-8218-4324-a1a1-98aab351fe33",
   "metadata": {},
   "outputs": [
    {
     "name": "stdout",
     "output_type": "stream",
     "text": [
      "<class 'int'>\n",
      "2\n"
     ]
    }
   ],
   "source": [
    "num=2\n",
    "print(type(num))\n",
    "print(num)"
   ]
  },
  {
   "cell_type": "code",
   "execution_count": 2,
   "id": "45cc05f8-7bf1-4939-b8ea-fcde76246cb5",
   "metadata": {},
   "outputs": [
    {
     "name": "stdout",
     "output_type": "stream",
     "text": [
      "<class 'float'>\n",
      "3.5\n"
     ]
    }
   ],
   "source": [
    "num=3.5\n",
    "print(type(num))\n",
    "print(num)"
   ]
  },
  {
   "cell_type": "code",
   "execution_count": 3,
   "id": "4bf1e102-dd41-4ab7-b102-a97c0a5029f2",
   "metadata": {},
   "outputs": [
    {
     "name": "stdout",
     "output_type": "stream",
     "text": [
      "<class 'complex'>\n",
      "(4+6j)\n"
     ]
    }
   ],
   "source": [
    "num=4+6j\n",
    "print(type(num))\n",
    "print(num)"
   ]
  },
  {
   "cell_type": "code",
   "execution_count": 4,
   "id": "969e1108-b771-4b16-acbe-50a458674966",
   "metadata": {},
   "outputs": [
    {
     "name": "stdout",
     "output_type": "stream",
     "text": [
      "<class 'int'> <class 'float'>\n",
      "2 3.5\n"
     ]
    }
   ],
   "source": [
    "num=1\n",
    "num1=num+1\n",
    "num2=num+2.5\n",
    "print(type(num1),type(num2))\n",
    "print(num1 ,num2)"
   ]
  },
  {
   "cell_type": "code",
   "execution_count": 5,
   "id": "b707a35c-a396-4fb0-ad9c-828e2729190d",
   "metadata": {},
   "outputs": [
    {
     "data": {
      "text/plain": [
       "1"
      ]
     },
     "execution_count": 5,
     "metadata": {},
     "output_type": "execute_result"
    }
   ],
   "source": [
    "num.real"
   ]
  },
  {
   "cell_type": "code",
   "execution_count": 6,
   "id": "ab01ae67-8302-4b81-a173-fe908c890df9",
   "metadata": {},
   "outputs": [
    {
     "data": {
      "text/plain": [
       "0"
      ]
     },
     "execution_count": 6,
     "metadata": {},
     "output_type": "execute_result"
    }
   ],
   "source": [
    "num.imag"
   ]
  },
  {
   "cell_type": "markdown",
   "id": "d79978e8-73c3-4bc9-94ed-8db453244a21",
   "metadata": {},
   "source": [
    "<h1> Arthemetic Operation</h1>"
   ]
  },
  {
   "cell_type": "code",
   "execution_count": 7,
   "id": "d2b00a21-97a3-4305-860c-fe15cde0382c",
   "metadata": {},
   "outputs": [
    {
     "name": "stdout",
     "output_type": "stream",
     "text": [
      "150\n",
      "50\n",
      "5000\n",
      "2.0\n",
      "2\n",
      "50\n"
     ]
    }
   ],
   "source": [
    "num1=50\n",
    "num2=100\n",
    "\n",
    "print(num1+num2) #addition \n",
    "print(num2-num1) #subtraction\n",
    "print(num1*num2) #multiplication\n",
    "print(num2/num1) #division\n",
    "print(num2//num1) #division\n",
    "print(num1%num2) #modulos"
   ]
  },
  {
   "cell_type": "markdown",
   "id": "f00ed6d9-1b97-49f1-9fd8-f568b92307fb",
   "metadata": {},
   "source": [
    "<h1>Conversions</h1>"
   ]
  },
  {
   "cell_type": "code",
   "execution_count": 8,
   "id": "77e60ee2-21f9-4977-b4a2-eb883b404026",
   "metadata": {},
   "outputs": [
    {
     "name": "stdout",
     "output_type": "stream",
     "text": [
      "<class 'str'>\n"
     ]
    }
   ],
   "source": [
    "x=\"250\" # any number in \" \" invited commas they denoted as string \n",
    "print(type(x))"
   ]
  },
  {
   "cell_type": "code",
   "execution_count": 9,
   "id": "b420db89-2a45-47b1-93d9-9bd771828e99",
   "metadata": {},
   "outputs": [
    {
     "name": "stdout",
     "output_type": "stream",
     "text": [
      "<class 'int'>\n"
     ]
    }
   ],
   "source": [
    "x=int(x) # this converts into integer\n",
    "print(type(x))"
   ]
  },
  {
   "cell_type": "code",
   "execution_count": 10,
   "id": "3c648d21-5b8f-4eea-abd0-28c52cacc658",
   "metadata": {},
   "outputs": [
    {
     "name": "stdout",
     "output_type": "stream",
     "text": [
      "<class 'float'>\n",
      "250.0\n"
     ]
    }
   ],
   "source": [
    "x=float(x) # this converts into float\n",
    "print(type(x))\n",
    "print(x)"
   ]
  },
  {
   "cell_type": "code",
   "execution_count": 11,
   "id": "c950cc35-7f25-448c-b680-079ba8ae27df",
   "metadata": {},
   "outputs": [
    {
     "name": "stdout",
     "output_type": "stream",
     "text": [
      "<class 'complex'>\n",
      "(250+0j)\n"
     ]
    }
   ],
   "source": [
    "x=complex(x)\n",
    "print(type(x))\n",
    "print(x)"
   ]
  },
  {
   "cell_type": "markdown",
   "id": "2c3a15da-800f-4374-a3a1-e4988800f7a2",
   "metadata": {},
   "source": [
    "<h1>Functions</h1>"
   ]
  },
  {
   "cell_type": "code",
   "execution_count": 12,
   "id": "66969b83-d934-42c5-ba1b-da2f7cfda112",
   "metadata": {},
   "outputs": [
    {
     "name": "stdout",
     "output_type": "stream",
     "text": [
      "5.5\n"
     ]
    }
   ],
   "source": [
    "x=-5.5\n",
    "print(abs(x)) # this function converts negative to positive "
   ]
  },
  {
   "cell_type": "code",
   "execution_count": 13,
   "id": "f976d3df-bca9-43c9-a0cd-501dcc6e686c",
   "metadata": {},
   "outputs": [
    {
     "name": "stdout",
     "output_type": "stream",
     "text": [
      "22026.465794806718\n"
     ]
    }
   ],
   "source": [
    "import math\n",
    "x=10\n",
    "print(math.exp(x))"
   ]
  },
  {
   "cell_type": "code",
   "execution_count": 14,
   "id": "52d3528d-ae6b-4a62-a679-eee67a027f7d",
   "metadata": {},
   "outputs": [
    {
     "data": {
      "text/plain": [
       "2.718281828459045"
      ]
     },
     "execution_count": 14,
     "metadata": {},
     "output_type": "execute_result"
    }
   ],
   "source": [
    "math.e"
   ]
  },
  {
   "cell_type": "code",
   "execution_count": 15,
   "id": "8aa82b40-14f9-4d82-a05a-272c3b097864",
   "metadata": {},
   "outputs": [
    {
     "data": {
      "text/plain": [
       "3.0"
      ]
     },
     "execution_count": 15,
     "metadata": {},
     "output_type": "execute_result"
    }
   ],
   "source": [
    "math.sqrt(9)"
   ]
  },
  {
   "cell_type": "code",
   "execution_count": 16,
   "id": "e308dee8-1807-4786-a6e5-1b711740b6c7",
   "metadata": {},
   "outputs": [
    {
     "data": {
      "text/plain": [
       "3.141592653589793"
      ]
     },
     "execution_count": 16,
     "metadata": {},
     "output_type": "execute_result"
    }
   ],
   "source": [
    "math.pi"
   ]
  },
  {
   "cell_type": "code",
   "execution_count": 17,
   "id": "9da1121d-c948-4812-a64f-9d2facb1eeaa",
   "metadata": {},
   "outputs": [
    {
     "data": {
      "text/plain": [
       "8"
      ]
     },
     "execution_count": 17,
     "metadata": {},
     "output_type": "execute_result"
    }
   ],
   "source": [
    "max(1,5,8,2,6) # finding maximum highest number "
   ]
  },
  {
   "cell_type": "code",
   "execution_count": 18,
   "id": "93fa8412-2fbc-42e9-ba2e-832c4fe64b66",
   "metadata": {},
   "outputs": [
    {
     "data": {
      "text/plain": [
       "2"
      ]
     },
     "execution_count": 18,
     "metadata": {},
     "output_type": "execute_result"
    }
   ],
   "source": [
    "min(2,4,6,3,6,9) #finding minimum lowest number"
   ]
  },
  {
   "cell_type": "markdown",
   "id": "ae25fe96-e6ad-4fce-a1d0-c5c2adfa9d70",
   "metadata": {},
   "source": [
    "<h1>Lists</h1><br>\n",
    "List are the collection of the data , it holds multiple values in a varibles !! <br> \n",
    "a set of values in a variable are called list , list can be replceable , lists are denoted as [] brackets <br>\n",
    "not only numbers , each and every datatype can be in a list . <br>\n",
    "list are assigned in positioned start from ' 0 '."
   ]
  },
  {
   "cell_type": "code",
   "execution_count": 19,
   "id": "e1666373-d4cc-4c7d-b37e-9b280963d4c6",
   "metadata": {},
   "outputs": [
    {
     "name": "stdout",
     "output_type": "stream",
     "text": [
      "<class 'list'>\n",
      "[2, 4, 6, 8]\n"
     ]
    }
   ],
   "source": [
    "num=[2,4,6,8]\n",
    "print(type(num))\n",
    "print(num)"
   ]
  },
  {
   "cell_type": "code",
   "execution_count": 20,
   "id": "b678212f-b8cf-41ad-b181-193e292716a8",
   "metadata": {},
   "outputs": [
    {
     "name": "stdout",
     "output_type": "stream",
     "text": [
      "<class 'list'>\n",
      "['A,S,H,R,D,Y']\n"
     ]
    }
   ],
   "source": [
    "word=[\"A,S,H,R,D,Y\"]\n",
    "print(type(word))\n",
    "print(word)"
   ]
  },
  {
   "cell_type": "markdown",
   "id": "cc2f5b9e-7491-401e-81f2-a5b4482d30af",
   "metadata": {},
   "source": [
    "String is written only in single quotes or double quotes "
   ]
  },
  {
   "cell_type": "code",
   "execution_count": 21,
   "id": "890f378f-85e2-4792-ae65-0dda723e5802",
   "metadata": {},
   "outputs": [
    {
     "name": "stdout",
     "output_type": "stream",
     "text": [
      "<class 'list'>\n",
      "['Adapala', 'Sri', 'Harsha', 'Reddy']\n"
     ]
    }
   ],
   "source": [
    "str=[\"Adapala\",\"Sri\",\"Harsha\",\"Reddy\"]\n",
    "print (type(str))\n",
    "print(str)"
   ]
  },
  {
   "cell_type": "code",
   "execution_count": 22,
   "id": "1f70cf01-d354-497f-8c8b-04fee0d1181f",
   "metadata": {},
   "outputs": [
    {
     "name": "stdout",
     "output_type": "stream",
     "text": [
      "[5, 20, 'sri', 'harsha', 'reddy']\n"
     ]
    }
   ],
   "source": [
    "mix=[5,20,\"sri\",\"harsha\",\"reddy\"]\n",
    "print(mix)"
   ]
  },
  {
   "cell_type": "code",
   "execution_count": 23,
   "id": "8fde5051-50ab-4fa6-9207-09eddf76c362",
   "metadata": {},
   "outputs": [
    {
     "name": "stdout",
     "output_type": "stream",
     "text": [
      "[[1, 5, 9], ['pandu', 'robert']]\n"
     ]
    }
   ],
   "source": [
    "set=[[1,5,9],[\"pandu\",\"robert\"]]\n",
    "print(set)"
   ]
  },
  {
   "cell_type": "markdown",
   "id": "7a6379ad-e8ee-4722-9689-6a8b98cd69e1",
   "metadata": {},
   "source": [
    "<h1>Indexing the List</h1>"
   ]
  },
  {
   "cell_type": "code",
   "execution_count": 24,
   "id": "5cc230b0-0f02-4d13-a6f7-a9c6b2c104cb",
   "metadata": {},
   "outputs": [
    {
     "name": "stdout",
     "output_type": "stream",
     "text": [
      "[5, 20, 'sri', 'harsha', 'reddy']\n",
      "[5, 20, 'sri', 50, 'reddy']\n",
      "[50, 'reddy']\n"
     ]
    }
   ],
   "source": [
    "print(mix)\n",
    "mix[3]=50\n",
    "print(mix[:5]) # when empty ratio start its default with 0 index (lowest)\n",
    "print(mix[3:]) # when empty ratio ends its default with highest index "
   ]
  },
  {
   "cell_type": "code",
   "execution_count": 25,
   "id": "fd5c84a8-2bf2-420e-9ba7-b087ce79c95f",
   "metadata": {},
   "outputs": [
    {
     "name": "stdout",
     "output_type": "stream",
     "text": [
      "sri\n"
     ]
    }
   ],
   "source": [
    "print (mix[-3]) # Indexing in negative represents it counts reverse from highest ."
   ]
  },
  {
   "cell_type": "markdown",
   "id": "466f4892-77c2-4fc7-8f36-4495eedac540",
   "metadata": {},
   "source": [
    " i.e from back count the indexing !! the highest index will be the -1 index "
   ]
  },
  {
   "cell_type": "markdown",
   "id": "42e9b439-331a-4095-a98d-e0c0990b74aa",
   "metadata": {},
   "source": [
    "<h1>Operations on lists<h1>"
   ]
  },
  {
   "cell_type": "code",
   "execution_count": 26,
   "id": "46f06086-1030-40f9-ab8b-afc2e9d9e29c",
   "metadata": {},
   "outputs": [
    {
     "name": "stdout",
     "output_type": "stream",
     "text": [
      "[5, 5, 5, 5, 5, 5, 5, 5, 5, 5, 5, 5, 5, 5, 5, 5, 5, 5, 5, 5, 5, 5, 5, 5, 5, 5, 5, 5, 5, 5, 5, 5, 5, 5, 5, 5, 5, 5, 5, 5, 5, 5, 5, 5, 5, 5, 5, 5, 5, 5]\n"
     ]
    }
   ],
   "source": [
    "list=[5]*50\n",
    "print(list)"
   ]
  },
  {
   "cell_type": "markdown",
   "id": "f1591781-56b4-4053-93b4-f287b2c2890d",
   "metadata": {},
   "source": [
    "when we want multiple list of same number we can multiply by the number how many times numbers in the list "
   ]
  },
  {
   "cell_type": "code",
   "execution_count": 27,
   "id": "1ce46684-7add-4ab6-acf6-1a53400828e5",
   "metadata": {},
   "outputs": [
    {
     "name": "stdout",
     "output_type": "stream",
     "text": [
      "['A,S,H,R,D,Y']\n"
     ]
    }
   ],
   "source": [
    "print(word)"
   ]
  },
  {
   "cell_type": "code",
   "execution_count": 28,
   "id": "b02f76bc-0ac0-4b2d-96bd-1ccb54373161",
   "metadata": {},
   "outputs": [
    {
     "name": "stdout",
     "output_type": "stream",
     "text": [
      "['Adapala', 'Sri', 'Harsha', 'Reddy']\n"
     ]
    }
   ],
   "source": [
    "print(str)"
   ]
  },
  {
   "cell_type": "code",
   "execution_count": 29,
   "id": "0f4f3274-476b-4553-bfe5-8626a99e7a77",
   "metadata": {},
   "outputs": [
    {
     "name": "stdout",
     "output_type": "stream",
     "text": [
      "['A,S,H,R,D,Y', 'Adapala', 'Sri', 'Harsha', 'Reddy']\n"
     ]
    }
   ],
   "source": [
    "conc=word+str\n",
    "print(conc)"
   ]
  },
  {
   "cell_type": "code",
   "execution_count": 30,
   "id": "627d28ad-5ff7-4aee-be15-ebc2c4dd5f2d",
   "metadata": {},
   "outputs": [
    {
     "name": "stdout",
     "output_type": "stream",
     "text": [
      "[2, 4, 6, 8]\n"
     ]
    }
   ],
   "source": [
    "print(num)"
   ]
  },
  {
   "cell_type": "code",
   "execution_count": 31,
   "id": "65ab9cce-e45e-47e3-8d56-1059abf7a2ad",
   "metadata": {},
   "outputs": [
    {
     "name": "stdout",
     "output_type": "stream",
     "text": [
      "2\n",
      "[4, 6, 8]\n"
     ]
    }
   ],
   "source": [
    "one,*other=(num)\n",
    "print(one)\n",
    "print(other)"
   ]
  },
  {
   "cell_type": "markdown",
   "id": "863122ab-8170-45b0-80e7-099a520c9de1",
   "metadata": {},
   "source": [
    "<h1> Methods in List </h1>"
   ]
  },
  {
   "cell_type": "code",
   "execution_count": 32,
   "id": "dbcc8ca1-b7c8-43e5-ba05-d11423ca9ad9",
   "metadata": {},
   "outputs": [
    {
     "name": "stdout",
     "output_type": "stream",
     "text": [
      "[2, 4, 6, 8]\n"
     ]
    }
   ],
   "source": [
    "print(num)"
   ]
  },
  {
   "cell_type": "code",
   "execution_count": 33,
   "id": "23f0615c-f3f4-4168-838e-8b81822e95a4",
   "metadata": {},
   "outputs": [
    {
     "name": "stdout",
     "output_type": "stream",
     "text": [
      "[2, 4, 6, 8, 10]\n"
     ]
    }
   ],
   "source": [
    "num.append(10) #Append defines add the value into list\n",
    "print(num)\n"
   ]
  },
  {
   "cell_type": "code",
   "execution_count": 34,
   "id": "9cf3adbe-48ea-4850-a223-640ab6824884",
   "metadata": {},
   "outputs": [
    {
     "name": "stdout",
     "output_type": "stream",
     "text": [
      "[2, 4, 6, 8, 10, 'Adapala', 'Sri', 'Harsha', 'Reddy']\n"
     ]
    }
   ],
   "source": [
    "num.extend(str) # extend defines add the whole another list\n",
    "print(num)"
   ]
  },
  {
   "cell_type": "code",
   "execution_count": 35,
   "id": "05c76013-3915-4216-9bef-76b5b36e74bb",
   "metadata": {},
   "outputs": [
    {
     "name": "stdout",
     "output_type": "stream",
     "text": [
      "[2, 4, 6, 8, 10, 'hello', 'Adapala', 'Sri', 'Harsha', 'Reddy']\n"
     ]
    }
   ],
   "source": [
    "num.insert(5,\"hello\") # insert defines placeing value in determined index !! in (index,\"value\") this how its represented\n",
    "print(num)"
   ]
  },
  {
   "cell_type": "code",
   "execution_count": 36,
   "id": "10208306-eecf-4530-be42-6b424131d787",
   "metadata": {},
   "outputs": [
    {
     "name": "stdout",
     "output_type": "stream",
     "text": [
      "[2, 4, 8, 10, 'hello', 'Adapala', 'Sri', 'Harsha', 'Reddy']\n"
     ]
    }
   ],
   "source": [
    "num.remove(6) # remove defines the deleting the value in determined index\n",
    "print(num)"
   ]
  },
  {
   "cell_type": "code",
   "execution_count": 37,
   "id": "714162ef-e205-4f95-b5e8-8dd94f0d7853",
   "metadata": {},
   "outputs": [
    {
     "name": "stdout",
     "output_type": "stream",
     "text": [
      "[2, 4, 8, 10, 'Adapala', 'Sri', 'Harsha', 'Reddy']\n"
     ]
    }
   ],
   "source": [
    "num.remove(\"hello\")\n",
    "print(num)"
   ]
  },
  {
   "cell_type": "code",
   "execution_count": 38,
   "id": "769863b6-531c-4ee3-ba3e-9a36831fa3b7",
   "metadata": {},
   "outputs": [
    {
     "name": "stdout",
     "output_type": "stream",
     "text": [
      "['a', 'd', 'f', 'g', 's']\n"
     ]
    }
   ],
   "source": [
    "var1=[\"a\",\"s\",\"d\",\"f\",\"g\"]\n",
    "var1.sort() #sort defines the sorting order it places the values in sequences \n",
    "print(var1)"
   ]
  },
  {
   "cell_type": "markdown",
   "id": "5dfab77f-37ab-4f4c-86bd-f0dfb95fa8f0",
   "metadata": {},
   "source": [
    "<h1>Build-in Functions </h1>"
   ]
  },
  {
   "cell_type": "code",
   "execution_count": 39,
   "id": "0a9e3e2b-b371-46d1-9729-7f8f5626936e",
   "metadata": {},
   "outputs": [
    {
     "name": "stdout",
     "output_type": "stream",
     "text": [
      "5\n"
     ]
    }
   ],
   "source": [
    "x=[1,2,3,4,5,]\n",
    "len(x)  # len defines the length of the funtions \n",
    "print(len(x)) # here we can write directly aslo "
   ]
  },
  {
   "cell_type": "code",
   "execution_count": 40,
   "id": "dd044b4a-10c8-49df-9d46-6d96481d84ca",
   "metadata": {},
   "outputs": [
    {
     "data": {
      "text/plain": [
       "1"
      ]
     },
     "execution_count": 40,
     "metadata": {},
     "output_type": "execute_result"
    }
   ],
   "source": [
    "min(x) # minimum value in the list "
   ]
  },
  {
   "cell_type": "code",
   "execution_count": 41,
   "id": "7811018a-f211-45ad-9821-168eb36d6cd6",
   "metadata": {},
   "outputs": [
    {
     "data": {
      "text/plain": [
       "5"
      ]
     },
     "execution_count": 41,
     "metadata": {},
     "output_type": "execute_result"
    }
   ],
   "source": [
    "max(x) # maximum value in the list "
   ]
  },
  {
   "cell_type": "code",
   "execution_count": 42,
   "id": "ccbed865-2cbf-4bd9-ad42-e60b412f67f6",
   "metadata": {},
   "outputs": [
    {
     "data": {
      "text/plain": [
       "15"
      ]
     },
     "execution_count": 42,
     "metadata": {},
     "output_type": "execute_result"
    }
   ],
   "source": [
    "sum(x)  # Sum of all the values in the list"
   ]
  },
  {
   "cell_type": "code",
   "execution_count": 43,
   "id": "3b6e9469-709f-4c46-a5ad-4c719d171235",
   "metadata": {},
   "outputs": [
    {
     "data": {
      "text/plain": [
       "3.0"
      ]
     },
     "execution_count": 43,
     "metadata": {},
     "output_type": "execute_result"
    }
   ],
   "source": [
    "# in python there no direct function to find average \n",
    "sum(x)/len(x) # by this combining function we can find average"
   ]
  },
  {
   "cell_type": "markdown",
   "id": "0981a53b-ddea-46e6-b8ea-46b1a164e67b",
   "metadata": {},
   "source": [
    "<h1> Tuples </h1>\n",
    "Tuple are defined as a collection of the values of immutable heterogeneous python objects , irreplaceable the values in set of collection <br>\n",
    "Tuplr are denoted as () brackets "
   ]
  },
  {
   "cell_type": "code",
   "execution_count": 46,
   "id": "1dcadc92-1575-4219-8034-e5badba4921b",
   "metadata": {},
   "outputs": [
    {
     "name": "stdout",
     "output_type": "stream",
     "text": [
      "<class 'tuple'>\n",
      "()\n"
     ]
    }
   ],
   "source": [
    "emp=() # this defines empty tuple\n",
    "print(type(emp))\n",
    "print(emp) # even its empty it show the brackets "
   ]
  },
  {
   "cell_type": "code",
   "execution_count": 50,
   "id": "6466c728-28d4-496c-93d2-5ea8c99f8f13",
   "metadata": {},
   "outputs": [
    {
     "name": "stdout",
     "output_type": "stream",
     "text": [
      "<class 'tuple'>\n"
     ]
    }
   ],
   "source": [
    "city = (\"hyderabad\", \"benguluru\") \n",
    "print(type(city))"
   ]
  },
  {
   "cell_type": "code",
   "execution_count": 51,
   "id": "f8cb91d3-36ca-460f-b7d2-7e9c07621734",
   "metadata": {},
   "outputs": [
    {
     "name": "stdout",
     "output_type": "stream",
     "text": [
      "[1, 2, 3, 4, 5]\n"
     ]
    }
   ],
   "source": [
    "list1=[1,2,3,4]\n",
    "tuple1=(1,2,3,4)\n",
    "list1.append(5) # this means the 5 is added to the end of the list \n",
    "print(list1)"
   ]
  },
  {
   "cell_type": "code",
   "execution_count": 52,
   "id": "817c9cec-1fb9-43e7-a972-7d1ed2dfdb7f",
   "metadata": {},
   "outputs": [
    {
     "ename": "AttributeError",
     "evalue": "'tuple' object has no attribute 'append'",
     "output_type": "error",
     "traceback": [
      "\u001b[1;31m---------------------------------------------------------------------------\u001b[0m",
      "\u001b[1;31mAttributeError\u001b[0m                            Traceback (most recent call last)",
      "Cell \u001b[1;32mIn[52], line 1\u001b[0m\n\u001b[1;32m----> 1\u001b[0m \u001b[43mtuple1\u001b[49m\u001b[38;5;241;43m.\u001b[39;49m\u001b[43mappend\u001b[49m(\u001b[38;5;241m5\u001b[39m) \u001b[38;5;66;03m# as said before tuple is irreplaceable . \u001b[39;00m\n\u001b[0;32m      2\u001b[0m \u001b[38;5;28mprint\u001b[39m(tuple1) \u001b[38;5;66;03m# this wont have any change \u001b[39;00m\n",
      "\u001b[1;31mAttributeError\u001b[0m: 'tuple' object has no attribute 'append'"
     ]
    }
   ],
   "source": [
    "tuple1.append(5) # as said before tuple is irreplaceable . \n",
    "print(tuple1) # this wont have any change "
   ]
  },
  {
   "cell_type": "code",
   "execution_count": 53,
   "id": "66072b37-7ed1-44f2-9957-3e086a1c963a",
   "metadata": {},
   "outputs": [],
   "source": [
    "# see the tuple results error "
   ]
  },
  {
   "cell_type": "markdown",
   "id": "145cd014-7809-4eda-9565-0d64a1b6f466",
   "metadata": {},
   "source": [
    "<h1> Concatination </h1>\n",
    "concatination is defined as adding two are more list or tuples "
   ]
  },
  {
   "cell_type": "code",
   "execution_count": 54,
   "id": "fa1e7b3b-8562-4706-adef-d8a3dca0a075",
   "metadata": {},
   "outputs": [
    {
     "name": "stdout",
     "output_type": "stream",
     "text": [
      "('hyderabad', 'benguluru')\n"
     ]
    }
   ],
   "source": [
    "print(city)"
   ]
  },
  {
   "cell_type": "code",
   "execution_count": 58,
   "id": "d96bea39-0e77-4e5e-a2d8-f2d6dfe0cb09",
   "metadata": {},
   "outputs": [
    {
     "name": "stdout",
     "output_type": "stream",
     "text": [
      "(1, 2, 3, 4)\n"
     ]
    }
   ],
   "source": [
    "num=(1,2,3,4)\n",
    "print(num)"
   ]
  },
  {
   "cell_type": "code",
   "execution_count": 59,
   "id": "1601f130-78f1-4351-9642-78c2f25f7034",
   "metadata": {},
   "outputs": [
    {
     "name": "stdout",
     "output_type": "stream",
     "text": [
      "('hyderabad', 'benguluru', 1, 2, 3, 4)\n"
     ]
    }
   ],
   "source": [
    "conc= city+num\n",
    "print(conc) # conc is combining two tuples "
   ]
  },
  {
   "cell_type": "markdown",
   "id": "53af7c23-6c9e-440a-883b-aa6eb029f741",
   "metadata": {},
   "source": [
    "<h1>Nesting the Tuple</h1>"
   ]
  },
  {
   "cell_type": "code",
   "execution_count": 60,
   "id": "82cadd17-81a2-40e7-91b3-95b274a4d10b",
   "metadata": {},
   "outputs": [
    {
     "name": "stdout",
     "output_type": "stream",
     "text": [
      "(('hyderabad', 'benguluru'), (1, 2, 3, 4))\n"
     ]
    }
   ],
   "source": [
    "nest=(city,num)# nest defines the grouping the both tuples \n",
    "print(nest)"
   ]
  },
  {
   "cell_type": "markdown",
   "id": "dd3e83c8-0ea7-420a-8209-6c0286012c21",
   "metadata": {},
   "source": [
    "<h1>Repetition</h1>"
   ]
  },
  {
   "cell_type": "code",
   "execution_count": 62,
   "id": "d7c5987c-7a70-4708-b4a0-aa092d64666f",
   "metadata": {},
   "outputs": [
    {
     "name": "stdout",
     "output_type": "stream",
     "text": [
      "('python', 'python', 'python', 'python', 'python')\n"
     ]
    }
   ],
   "source": [
    "rep=(\"python\",)*5\n",
    "print(rep) # rep is defined as multipling the repeated values "
   ]
  },
  {
   "cell_type": "code",
   "execution_count": 65,
   "id": "0fe1f43f-dce2-4e5d-988e-4a14148efeec",
   "metadata": {},
   "outputs": [
    {
     "name": "stdout",
     "output_type": "stream",
     "text": [
      "('pycharm', 'pycharm', 'pycharm', 'pycharm', 'pycharm', 'pycharm', 'pycharm', 'pycharm', 'pycharm', 'pycharm')\n"
     ]
    }
   ],
   "source": [
    "rep=(\"pycharm\",)\n",
    "print(rep*10) # we can multiply even like this "
   ]
  },
  {
   "cell_type": "markdown",
   "id": "982fcfd4-521e-4d6a-9d98-becbac0ac240",
   "metadata": {},
   "source": [
    "<h1>Slicing in tuple</h1>\n",
    "is nothing but the indexing \n"
   ]
  },
  {
   "cell_type": "code",
   "execution_count": 66,
   "id": "38fee0c0-adca-4b63-8848-821a41a1aa2e",
   "metadata": {},
   "outputs": [
    {
     "data": {
      "text/plain": [
       "(1, 2, 3, 4)"
      ]
     },
     "execution_count": 66,
     "metadata": {},
     "output_type": "execute_result"
    }
   ],
   "source": [
    "num # in python we can use direct calls "
   ]
  },
  {
   "cell_type": "code",
   "execution_count": 68,
   "id": "31a97b70-151a-4f65-9d71-1ad21a359672",
   "metadata": {},
   "outputs": [
    {
     "data": {
      "text/plain": [
       "(2, 3, 4)"
      ]
     },
     "execution_count": 68,
     "metadata": {},
     "output_type": "execute_result"
    }
   ],
   "source": [
    "num[1:]"
   ]
  },
  {
   "cell_type": "code",
   "execution_count": 70,
   "id": "d2411291-fb5c-4242-bef0-aad9ff509515",
   "metadata": {},
   "outputs": [
    {
     "data": {
      "text/plain": [
       "(1, 2, 3)"
      ]
     },
     "execution_count": 70,
     "metadata": {},
     "output_type": "execute_result"
    }
   ],
   "source": [
    "num[:-1]"
   ]
  },
  {
   "cell_type": "markdown",
   "id": "b246ba58-aadf-496a-9cbc-d9874f1c50de",
   "metadata": {},
   "source": [
    "<h1>Unpacking</h1>"
   ]
  },
  {
   "cell_type": "code",
   "execution_count": 71,
   "id": "99ab91a4-1dd2-4cbc-a5db-31abbd84c9ce",
   "metadata": {},
   "outputs": [
    {
     "data": {
      "text/plain": [
       "('p', 'y', 't', 'h', 'o', 'n', 'l', 'e', 'a', 'r', 'n', 'i', 'n', 'g')"
      ]
     },
     "execution_count": 71,
     "metadata": {},
     "output_type": "execute_result"
    }
   ],
   "source": [
    "tuple(\"pythonlearning\")"
   ]
  },
  {
   "cell_type": "code",
   "execution_count": 72,
   "id": "1fc17cb6-71a9-4153-8dbf-e7f3aee48fbf",
   "metadata": {},
   "outputs": [
    {
     "data": {
      "text/plain": [
       "(1, 2, 3, 4)"
      ]
     },
     "execution_count": 72,
     "metadata": {},
     "output_type": "execute_result"
    }
   ],
   "source": [
    "num"
   ]
  },
  {
   "cell_type": "code",
   "execution_count": 73,
   "id": "a40d3bd0-768d-4577-915e-e93e651affcf",
   "metadata": {},
   "outputs": [
    {
     "name": "stdout",
     "output_type": "stream",
     "text": [
      "1 2 3 4\n"
     ]
    }
   ],
   "source": [
    "# we can assign the values to the values \n",
    "a,b,c,d=num\n",
    "print(a,b,c,d)"
   ]
  },
  {
   "cell_type": "markdown",
   "id": "a2c26ae7-3d60-4c0a-85b3-9802fc77e860",
   "metadata": {},
   "source": [
    "<h1>Deleting the tuple</h1>"
   ]
  },
  {
   "cell_type": "code",
   "execution_count": 74,
   "id": "93bd9849-98cf-47e7-970d-126c82764e85",
   "metadata": {},
   "outputs": [
    {
     "name": "stdout",
     "output_type": "stream",
     "text": [
      "(2, 3, 4, 5)\n"
     ]
    }
   ],
   "source": [
    "tuple1=(2,3,4,5)\n",
    "print(tuple1)"
   ]
  },
  {
   "cell_type": "code",
   "execution_count": 75,
   "id": "96e4d935-9d5e-4b97-b244-3dcc6e08577b",
   "metadata": {},
   "outputs": [
    {
     "ename": "NameError",
     "evalue": "name 'tuple1' is not defined",
     "output_type": "error",
     "traceback": [
      "\u001b[1;31m---------------------------------------------------------------------------\u001b[0m",
      "\u001b[1;31mNameError\u001b[0m                                 Traceback (most recent call last)",
      "Cell \u001b[1;32mIn[75], line 2\u001b[0m\n\u001b[0;32m      1\u001b[0m \u001b[38;5;28;01mdel\u001b[39;00m(tuple1)\n\u001b[1;32m----> 2\u001b[0m \u001b[38;5;28mprint\u001b[39m(\u001b[43mtuple1\u001b[49m)\n",
      "\u001b[1;31mNameError\u001b[0m: name 'tuple1' is not defined"
     ]
    }
   ],
   "source": [
    "del(tuple1)\n",
    "print(tuple1)"
   ]
  },
  {
   "cell_type": "code",
   "execution_count": 76,
   "id": "c73814c9-66c0-41f2-a279-bd829959beb9",
   "metadata": {},
   "outputs": [],
   "source": [
    "# by del() function can delete the whole set of tuple !!\n"
   ]
  },
  {
   "cell_type": "markdown",
   "id": "62e46cd0-0189-4de6-bbce-8e0b775ced42",
   "metadata": {},
   "source": [
    "<h1>Build in function</h1>"
   ]
  },
  {
   "cell_type": "code",
   "execution_count": 78,
   "id": "45270035-156c-487f-9c5f-22c6a1a77d2f",
   "metadata": {},
   "outputs": [
    {
     "data": {
      "text/plain": [
       "5"
      ]
     },
     "execution_count": 78,
     "metadata": {},
     "output_type": "execute_result"
    }
   ],
   "source": [
    "num1=(2,3,4,4,4,4,4,5,5)\n",
    "num1.count(4) # it counts how many 4s are there in tuple "
   ]
  },
  {
   "cell_type": "code",
   "execution_count": 79,
   "id": "96ca5566-957e-4155-a3af-99f47db58571",
   "metadata": {},
   "outputs": [
    {
     "data": {
      "text/plain": [
       "35"
      ]
     },
     "execution_count": 79,
     "metadata": {},
     "output_type": "execute_result"
    }
   ],
   "source": [
    "sum(num1) # sum all the values in the tuple "
   ]
  },
  {
   "cell_type": "code",
   "execution_count": 80,
   "id": "179ba3a1-bb57-4649-ad21-d03e3b863d6b",
   "metadata": {},
   "outputs": [
    {
     "data": {
      "text/plain": [
       "9"
      ]
     },
     "execution_count": 80,
     "metadata": {},
     "output_type": "execute_result"
    }
   ],
   "source": [
    "len(num1) # length of the tuple , total no of values "
   ]
  },
  {
   "cell_type": "code",
   "execution_count": 85,
   "id": "2b87dfda-f647-42cc-88c7-4de9f57538f0",
   "metadata": {},
   "outputs": [
    {
     "name": "stdout",
     "output_type": "stream",
     "text": [
      "[3, 5, 7, 9]\n",
      "<class 'list'>\n"
     ]
    }
   ],
   "source": [
    "list=[3,5,7,9]\n",
    "print(list)\n",
    "print(type(list)) "
   ]
  },
  {
   "cell_type": "code",
   "execution_count": 87,
   "id": "18285835-d206-49d6-bfd1-8d699a55a40c",
   "metadata": {},
   "outputs": [
    {
     "name": "stdout",
     "output_type": "stream",
     "text": [
      "(3, 5, 7, 9)\n",
      "<class 'tuple'>\n"
     ]
    }
   ],
   "source": [
    "tup= tuple(list)  # now converting list into tuple \n",
    "print(tup)\n",
    "print(type(tup))"
   ]
  },
  {
   "cell_type": "code",
   "execution_count": 88,
   "id": "4684f2e3-1456-45d6-9cd9-8d8af341ead0",
   "metadata": {},
   "outputs": [
    {
     "name": "stdout",
     "output_type": "stream",
     "text": [
      "[(2, 4, 6, 8), (1, 3, 5, 7)]\n"
     ]
    }
   ],
   "source": [
    "list= [(2,4,6,8),(1,3,5,7)]\n",
    "print(list)"
   ]
  },
  {
   "cell_type": "code",
   "execution_count": 91,
   "id": "683f08bd-b7f5-4fe0-a285-6f218fe58a2f",
   "metadata": {},
   "outputs": [
    {
     "name": "stdout",
     "output_type": "stream",
     "text": [
      "[(2, 4, 6, 8), (1, 3, 5, 7), ('tuple', 'python', 'pytoch'), ('tuple', 'python', 'pytoch'), ('tuple', 'python', 'pytoch')]\n"
     ]
    }
   ],
   "source": [
    "list.append((\"tuple\",\"python\",\"pytoch\"))\n",
    "print(list)"
   ]
  },
  {
   "cell_type": "code",
   "execution_count": 92,
   "id": "b5eae1dd-8e9d-4355-8ce1-d661e3abdac4",
   "metadata": {},
   "outputs": [
    {
     "name": "stdout",
     "output_type": "stream",
     "text": [
      "(['a', 's', 'd', 'f'], ['q', 'w', 'e', 'r'])\n"
     ]
    }
   ],
   "source": [
    "tup=(['a','s','d','f'],['q','w','e','r'])\n",
    "print(tup)"
   ]
  },
  {
   "cell_type": "code",
   "execution_count": 93,
   "id": "eb3a60e9-a29a-4acb-a00d-51d8d48b8118",
   "metadata": {},
   "outputs": [
    {
     "name": "stdout",
     "output_type": "stream",
     "text": [
      "(['a', 's', 'd', 'f', 'z'], ['q', 'w', 'e', 'r'])\n"
     ]
    }
   ],
   "source": [
    "tup[0].append('z')\n",
    "print(tup)"
   ]
  },
  {
   "cell_type": "code",
   "execution_count": 94,
   "id": "5d306037-bfb8-4262-af6d-1895e28c481f",
   "metadata": {},
   "outputs": [
    {
     "name": "stdout",
     "output_type": "stream",
     "text": [
      "(['a', 's', 'd', 'f'], ['q', 'w', 'e', 'r'])\n"
     ]
    }
   ],
   "source": [
    "tup[0].remove('z')\n",
    "print(tup)"
   ]
  },
  {
   "cell_type": "code",
   "execution_count": 95,
   "id": "098b7c95-c337-4365-bd84-2d4dcb13df92",
   "metadata": {},
   "outputs": [
    {
     "ename": "AttributeError",
     "evalue": "'tuple' object has no attribute 'append'",
     "output_type": "error",
     "traceback": [
      "\u001b[1;31m---------------------------------------------------------------------------\u001b[0m",
      "\u001b[1;31mAttributeError\u001b[0m                            Traceback (most recent call last)",
      "Cell \u001b[1;32mIn[95], line 1\u001b[0m\n\u001b[1;32m----> 1\u001b[0m \u001b[43mtup\u001b[49m\u001b[38;5;241;43m.\u001b[39;49m\u001b[43mappend\u001b[49m(\u001b[38;5;124m'\u001b[39m\u001b[38;5;124mx\u001b[39m\u001b[38;5;124m'\u001b[39m,\u001b[38;5;124m'\u001b[39m\u001b[38;5;124my\u001b[39m\u001b[38;5;124m'\u001b[39m,\u001b[38;5;124m'\u001b[39m\u001b[38;5;124mz\u001b[39m\u001b[38;5;124m'\u001b[39m) \u001b[38;5;66;03m# here we havent selected any list ... coz directly appending in tuple results error\u001b[39;00m\n\u001b[0;32m      2\u001b[0m \u001b[38;5;28mprint\u001b[39m(tup)\n",
      "\u001b[1;31mAttributeError\u001b[0m: 'tuple' object has no attribute 'append'"
     ]
    }
   ],
   "source": [
    "tup.append('x','y','z') # here we havent selected any list ... coz directly appending in tuple results error\n",
    "print(tup)"
   ]
  },
  {
   "cell_type": "code",
   "execution_count": null,
   "id": "d2e1f62d-ace7-4e9b-b64d-94561b50528b",
   "metadata": {},
   "outputs": [],
   "source": []
  }
 ],
 "metadata": {
  "kernelspec": {
   "display_name": "Python 3 (ipykernel)",
   "language": "python",
   "name": "python3"
  },
  "language_info": {
   "codemirror_mode": {
    "name": "ipython",
    "version": 3
   },
   "file_extension": ".py",
   "mimetype": "text/x-python",
   "name": "python",
   "nbconvert_exporter": "python",
   "pygments_lexer": "ipython3",
   "version": "3.10.0"
  }
 },
 "nbformat": 4,
 "nbformat_minor": 5
}
