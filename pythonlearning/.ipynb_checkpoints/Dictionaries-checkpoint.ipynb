{
 "cells": [
  {
   "cell_type": "markdown",
   "id": "ca7b3bd4-5eb7-4477-b461-1cea59f106c9",
   "metadata": {},
   "source": [
    "<h1> Sets and Dictionaries </h1><br>\n",
    "sets are defined as unordered colletions of unique elements in a list or tuple are called sets <br>\n",
    "dictionaries are defined as printing a values along with keys , keys known as indexing for values in variables "
   ]
  },
  {
   "cell_type": "markdown",
   "id": "a1f2cc62-db89-447b-b10a-67ee31c35240",
   "metadata": {},
   "source": [
    "<h3>Creating Directories</h3>"
   ]
  },
  {
   "cell_type": "code",
   "execution_count": 1,
   "id": "b3c0e0d6-c54e-40c9-a485-2d2c04f3590e",
   "metadata": {},
   "outputs": [
    {
     "name": "stdout",
     "output_type": "stream",
     "text": [
      "<class 'dict'>\n",
      "{1: 'welcome', 2: 'to', 3: 'pylearning'}\n"
     ]
    }
   ],
   "source": [
    "dict1= {1:\"welcome\",2:\"to\",3:\"pylearning\"}\n",
    "print(type(dict1))\n",
    "print(dict1) # this is dictionary fuction where it prints both indexing and value , "
   ]
  },
  {
   "cell_type": "markdown",
   "id": "95f1d797-405d-4cb1-b7b7-94dba2026214",
   "metadata": {},
   "source": [
    "in dictionary it can have any type of datatype , its does not have any restriction regarding the datatypes "
   ]
  },
  {
   "cell_type": "code",
   "execution_count": 2,
   "id": "f0042b15-652a-4032-b391-0b92533d9dda",
   "metadata": {},
   "outputs": [
    {
     "name": "stdout",
     "output_type": "stream",
     "text": [
      "{1: 'welcome', 2: 'to', 3: 'hyderabad'}\n"
     ]
    }
   ],
   "source": [
    "d1= dict({1:\"welcome\",2:\"to\",3:\"hyderabad\"})\n",
    "print(d1)"
   ]
  },
  {
   "cell_type": "code",
   "execution_count": 3,
   "id": "c7ae3add-07d9-4180-bcfb-0b03bc6410c5",
   "metadata": {},
   "outputs": [
    {
     "name": "stdout",
     "output_type": "stream",
     "text": [
      "{1: 'welcome', 2: 'to', 3: 'India'}\n"
     ]
    }
   ],
   "source": [
    "d2= dict([(1,\"welcome\"),(2,\"to\"),(3,\"India\")])\n",
    "print(d2)"
   ]
  },
  {
   "cell_type": "code",
   "execution_count": 4,
   "id": "c798bcab-e797-4d78-ac5b-223e414f3d91",
   "metadata": {},
   "outputs": [
    {
     "name": "stdout",
     "output_type": "stream",
     "text": [
      "{'name': 'Si harsha', 'age': 24, 'lang': 'spanish'}\n"
     ]
    }
   ],
   "source": [
    "d3= {\"name\":\"Si harsha\",\"age\":24,\"lang\":\"spanish\"}\n",
    "print(d3)"
   ]
  },
  {
   "cell_type": "code",
   "execution_count": 5,
   "id": "11dafe56-ef02-47a2-bd23-8aeb71ce32bf",
   "metadata": {},
   "outputs": [
    {
     "name": "stdout",
     "output_type": "stream",
     "text": [
      "{'name': {'firstname': 'Si', 'lastname': 'harsha'}, 'age': 24, 'lang': 'spanish'}\n"
     ]
    }
   ],
   "source": [
    "d4= {\"name\":{\"firstname\":\"Si\",\"lastname\":\"harsha\"},\"age\":24,\"lang\":\"spanish\"}\n",
    "print(d4)"
   ]
  },
  {
   "cell_type": "markdown",
   "id": "85faa3b1-b204-4a96-b2d1-d6ebe5fddbbf",
   "metadata": {},
   "source": [
    "<h3> Adding elements in dictionary </h3>"
   ]
  },
  {
   "cell_type": "code",
   "execution_count": 30,
   "id": "8a7e7060-96fc-4fb5-a2de-23c41336792e",
   "metadata": {},
   "outputs": [
    {
     "name": "stdout",
     "output_type": "stream",
     "text": [
      "welcome\n",
      "('how', 'are', 'you')\n"
     ]
    }
   ],
   "source": [
    "d={} # empty dictionary \n",
    "d[0]= \"welcome\" # assigning string value in 0th index \n",
    "d[1]= (\"how\",\"are\",\"you\") # assigning tuple values in 1st index \n",
    "print(d[0])\n",
    "print(d[1])"
   ]
  },
  {
   "cell_type": "code",
   "execution_count": 31,
   "id": "6417f44c-537a-4983-893b-1c0f84470426",
   "metadata": {},
   "outputs": [
    {
     "name": "stdout",
     "output_type": "stream",
     "text": [
      "{'Si entos harsha'}\n"
     ]
    }
   ],
   "source": [
    "d[\"name\"] = {\"Si entos harsha\"}\n",
    "print(d[\"name\"]) # assigning naming for keys "
   ]
  },
  {
   "cell_type": "code",
   "execution_count": 32,
   "id": "2149be79-1453-4740-aaf2-2b7d6fe8949c",
   "metadata": {},
   "outputs": [
    {
     "name": "stdout",
     "output_type": "stream",
     "text": [
      "{0: 'welcome', 1: ('how', 'are', 'you'), 'name': {'Si entos harsha'}}\n"
     ]
    }
   ],
   "source": [
    "print(d)\n"
   ]
  },
  {
   "cell_type": "code",
   "execution_count": 33,
   "id": "9e867835-0984-4416-bfec-08fa3c7c8243",
   "metadata": {},
   "outputs": [
    {
     "name": "stdout",
     "output_type": "stream",
     "text": [
      "{0: 'welcome', 1: ('how', 'are', 'you'), 'name': {'firstname': 'Si entos', 'lastname': 'harsha'}}\n"
     ]
    }
   ],
   "source": [
    "d[\"name\"]= {\"firstname\":\"Si entos\",\"lastname\":\"harsha\"}\n",
    "print(d)"
   ]
  },
  {
   "cell_type": "markdown",
   "id": "38bc8beb-1b46-468f-8851-70f51600010b",
   "metadata": {},
   "source": [
    "<h3> Accessing elements in dictionary</h3>"
   ]
  },
  {
   "cell_type": "code",
   "execution_count": 21,
   "id": "23cb91b7-20c2-4922-b248-ebb25fdac9a4",
   "metadata": {},
   "outputs": [
    {
     "name": "stdout",
     "output_type": "stream",
     "text": [
      "{0: 'welcome', 1: ('how', 'are', 'you'), 2: {'name': 'Si entos harsha'}, 'name': {'firstname': 'Si entos', 'lastname': 'harsha'}}\n"
     ]
    }
   ],
   "source": [
    "print(d)"
   ]
  },
  {
   "cell_type": "code",
   "execution_count": 23,
   "id": "9598615b-22b9-47aa-9c68-67a450f2fca5",
   "metadata": {},
   "outputs": [
    {
     "name": "stdout",
     "output_type": "stream",
     "text": [
      "{'firstname': 'Si entos', 'lastname': 'harsha'}\n"
     ]
    }
   ],
   "source": [
    "print(d[\"name\"])"
   ]
  },
  {
   "cell_type": "code",
   "execution_count": 24,
   "id": "e3522410-5673-46c9-a03d-c42887e702a9",
   "metadata": {},
   "outputs": [
    {
     "name": "stdout",
     "output_type": "stream",
     "text": [
      "Si entos\n"
     ]
    }
   ],
   "source": [
    "print(d[\"name\"][\"firstname\"])"
   ]
  },
  {
   "cell_type": "code",
   "execution_count": 25,
   "id": "87803806-d65d-41a2-a624-fb4ce20ccff7",
   "metadata": {},
   "outputs": [
    {
     "name": "stdout",
     "output_type": "stream",
     "text": [
      "('how', 'are', 'you')\n"
     ]
    }
   ],
   "source": [
    "print(d.get(1))"
   ]
  },
  {
   "cell_type": "markdown",
   "id": "2812b4e4-ed08-4b45-84d7-9dcc2d688605",
   "metadata": {},
   "source": [
    "<h3> Deleting elements in dictionary"
   ]
  },
  {
   "cell_type": "code",
   "execution_count": 26,
   "id": "db161e1e-827a-466e-87bd-19e0c2b4798b",
   "metadata": {},
   "outputs": [
    {
     "name": "stdout",
     "output_type": "stream",
     "text": [
      "{0: 'welcome', 1: ('how', 'are', 'you'), 2: {'name': 'Si entos harsha'}, 'name': {'firstname': 'Si entos', 'lastname': 'harsha'}}\n"
     ]
    }
   ],
   "source": [
    "print(d)"
   ]
  },
  {
   "cell_type": "code",
   "execution_count": 27,
   "id": "3a1da423-ecb6-4513-a767-34cfda8080c2",
   "metadata": {},
   "outputs": [
    {
     "name": "stdout",
     "output_type": "stream",
     "text": [
      "{0: 'welcome', 1: ('how', 'are', 'you'), 'name': {'firstname': 'Si entos', 'lastname': 'harsha'}}\n"
     ]
    }
   ],
   "source": [
    "d.pop(2)\n",
    "print(d)"
   ]
  },
  {
   "cell_type": "code",
   "execution_count": 28,
   "id": "b2d71edd-242c-472b-ae4c-90166621d087",
   "metadata": {},
   "outputs": [
    {
     "data": {
      "text/plain": [
       "('name', {'firstname': 'Si entos', 'lastname': 'harsha'})"
      ]
     },
     "execution_count": 28,
     "metadata": {},
     "output_type": "execute_result"
    }
   ],
   "source": [
    "d.popitem()"
   ]
  },
  {
   "cell_type": "code",
   "execution_count": 29,
   "id": "58f8864a-f263-4a59-9095-0bd30c08c531",
   "metadata": {},
   "outputs": [
    {
     "name": "stdout",
     "output_type": "stream",
     "text": [
      "{0: 'welcome', 1: ('how', 'are', 'you')}\n"
     ]
    }
   ],
   "source": [
    "print(d)"
   ]
  },
  {
   "cell_type": "markdown",
   "id": "905ff720-14cd-4455-9df8-8d4e3ebb5079",
   "metadata": {},
   "source": [
    "<h3> built in functions </h3>"
   ]
  },
  {
   "cell_type": "code",
   "execution_count": 34,
   "id": "9215c88f-b37c-4dcb-8560-f58b7b0c1ff2",
   "metadata": {},
   "outputs": [
    {
     "name": "stdout",
     "output_type": "stream",
     "text": [
      "{0: 'welcome', 1: ('how', 'are', 'you'), 'name': {'firstname': 'Si entos', 'lastname': 'harsha'}}\n"
     ]
    }
   ],
   "source": [
    "print(d)"
   ]
  },
  {
   "cell_type": "code",
   "execution_count": 35,
   "id": "701e844a-6875-476f-94f4-3157f4070a94",
   "metadata": {},
   "outputs": [
    {
     "data": {
      "text/plain": [
       "dict_values(['welcome', ('how', 'are', 'you'), {'firstname': 'Si entos', 'lastname': 'harsha'}])"
      ]
     },
     "execution_count": 35,
     "metadata": {},
     "output_type": "execute_result"
    }
   ],
   "source": [
    "d.values()"
   ]
  },
  {
   "cell_type": "code",
   "execution_count": 36,
   "id": "f93cfb5a-53a4-4e7e-b881-5e66600025f6",
   "metadata": {},
   "outputs": [
    {
     "data": {
      "text/plain": [
       "{'a': 1, 'd': 1, 'b': 1, 'c': 1}"
      ]
     },
     "execution_count": 36,
     "metadata": {},
     "output_type": "execute_result"
    }
   ],
   "source": [
    "keys= {'a','b','c','d'}\n",
    "value= 1\n",
    "dict.fromkeys(keys,value)"
   ]
  },
  {
   "cell_type": "code",
   "execution_count": 38,
   "id": "7ee2f74f-e94e-4368-b824-89b7688f0219",
   "metadata": {},
   "outputs": [
    {
     "name": "stdout",
     "output_type": "stream",
     "text": [
      "{}\n"
     ]
    }
   ],
   "source": [
    "d.clear() # earasing complete dictionary \n",
    "print(d)"
   ]
  },
  {
   "cell_type": "markdown",
   "id": "29147032-347d-4daf-956b-d40207ed02e4",
   "metadata": {},
   "source": [
    "<h1> Sets </h1>\n"
   ]
  },
  {
   "cell_type": "markdown",
   "id": "193b7eee-526e-4956-bc34-9c668718de4e",
   "metadata": {},
   "source": [
    "sets are defined as unordered collection of unique elements "
   ]
  },
  {
   "cell_type": "code",
   "execution_count": 40,
   "id": "7f7af0d2-2ccd-488e-afc9-3a0177d2eb5f",
   "metadata": {},
   "outputs": [
    {
     "name": "stdout",
     "output_type": "stream",
     "text": [
      "<class 'set'>\n",
      "{1, 2, 3, 4}\n"
     ]
    }
   ],
   "source": [
    "s= set([1,2,3,4])\n",
    "print(type(s))\n",
    "print(s)"
   ]
  },
  {
   "cell_type": "code",
   "execution_count": 42,
   "id": "bcb76e43-a29c-46ad-a981-00b60ea86369",
   "metadata": {},
   "outputs": [
    {
     "name": "stdout",
     "output_type": "stream",
     "text": [
      "{1, 2, 3, 4, 'a'}\n"
     ]
    }
   ],
   "source": [
    "s.add('a') # adding a value into set \n",
    "print(s)"
   ]
  },
  {
   "cell_type": "code",
   "execution_count": 43,
   "id": "114aa955-faa1-485d-8322-640ea808e761",
   "metadata": {},
   "outputs": [
    {
     "name": "stdout",
     "output_type": "stream",
     "text": [
      "frozenset({1, 2, 3, 4})\n"
     ]
    }
   ],
   "source": [
    "fs= frozenset([1,2,3,4])\n",
    "print(fs)"
   ]
  },
  {
   "cell_type": "code",
   "execution_count": 45,
   "id": "ba56280f-2df2-4f3a-adcd-3ca6abd497d9",
   "metadata": {},
   "outputs": [
    {
     "ename": "AttributeError",
     "evalue": "'frozenset' object has no attribute 'add'",
     "output_type": "error",
     "traceback": [
      "\u001b[1;31m---------------------------------------------------------------------------\u001b[0m",
      "\u001b[1;31mAttributeError\u001b[0m                            Traceback (most recent call last)",
      "Cell \u001b[1;32mIn[45], line 1\u001b[0m\n\u001b[1;32m----> 1\u001b[0m \u001b[43mfs\u001b[49m\u001b[38;5;241;43m.\u001b[39;49m\u001b[43madd\u001b[49m(\u001b[38;5;241m5\u001b[39m) \u001b[38;5;66;03m# frozenset doesnt allow changes in sets \u001b[39;00m\n",
      "\u001b[1;31mAttributeError\u001b[0m: 'frozenset' object has no attribute 'add'"
     ]
    }
   ],
   "source": [
    "fs.add(5) # frozenset doesnt allow changes in sets "
   ]
  },
  {
   "cell_type": "code",
   "execution_count": 46,
   "id": "e579e6cd-18f9-4dab-a328-3f53cd4fe507",
   "metadata": {},
   "outputs": [
    {
     "data": {
      "text/plain": [
       "{1, 2, 3, 4, 5, 6, 8, 9}"
      ]
     },
     "execution_count": 46,
     "metadata": {},
     "output_type": "execute_result"
    }
   ],
   "source": [
    "s1= set([1,3,4,5,6])\n",
    "s2= set([2,3,4,8,9])\n",
    "s1.union(s2)"
   ]
  },
  {
   "cell_type": "code",
   "execution_count": 48,
   "id": "37219c23-6264-4169-a852-23d871008be9",
   "metadata": {},
   "outputs": [
    {
     "data": {
      "text/plain": [
       "{1, 5, 6}"
      ]
     },
     "execution_count": 48,
     "metadata": {},
     "output_type": "execute_result"
    }
   ],
   "source": [
    "s1.difference(s2)"
   ]
  },
  {
   "cell_type": "code",
   "execution_count": null,
   "id": "4a782ada-e04a-4871-9e88-c82e6fde1e22",
   "metadata": {},
   "outputs": [],
   "source": []
  }
 ],
 "metadata": {
  "kernelspec": {
   "display_name": "Python 3 (ipykernel)",
   "language": "python",
   "name": "python3"
  },
  "language_info": {
   "codemirror_mode": {
    "name": "ipython",
    "version": 3
   },
   "file_extension": ".py",
   "mimetype": "text/x-python",
   "name": "python",
   "nbconvert_exporter": "python",
   "pygments_lexer": "ipython3",
   "version": "3.10.0"
  }
 },
 "nbformat": 4,
 "nbformat_minor": 5
}
