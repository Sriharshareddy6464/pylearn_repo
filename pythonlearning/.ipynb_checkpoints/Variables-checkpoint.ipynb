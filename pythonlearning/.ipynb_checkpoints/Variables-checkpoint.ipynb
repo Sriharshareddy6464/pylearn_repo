{
 "cells": [
  {
   "cell_type": "markdown",
   "id": "72e47bcb-8b5a-4efc-8edb-89afa2ba7e3d",
   "metadata": {},
   "source": [
    "<h1>What is Variable ?</h1><br>\n",
    "variable is defined as assigning a value to the program is called variable !! variables are entites of a program that holds a value in it !!\n"
   ]
  },
  {
   "cell_type": "code",
   "execution_count": 1,
   "id": "cfc235ec-b045-4686-b41f-a52fcb61bdf6",
   "metadata": {},
   "outputs": [],
   "source": [
    "x=100 # for example "
   ]
  },
  {
   "cell_type": "code",
   "execution_count": 2,
   "id": "c273063c-d255-4010-80f2-d6cb3a4db144",
   "metadata": {},
   "outputs": [
    {
     "name": "stdout",
     "output_type": "stream",
     "text": [
      "100\n"
     ]
    }
   ],
   "source": [
    "print(x)"
   ]
  },
  {
   "cell_type": "markdown",
   "id": "7e73be8b-465f-4e25-97b2-ea03b32a009a",
   "metadata": {},
   "source": [
    "<h1> What are datatypes ??</h1> <br>\n",
    "Datatypes are the values that defined in the program as variables !! there are mainly considered 3 types of datatypes <br>\n",
    "\n",
    "int = integer which is denoted as a whole numbers 0-~ are called integers <br>\n",
    "float = float which is denoted as a decimal numbers as value are called float <br>\n",
    "str = string which is denoted as a word / aplhabet in a \" \" in manner is called string <br>\n",
    "\n"
   ]
  },
  {
   "cell_type": "code",
   "execution_count": 3,
   "id": "bed82281-d9be-4c7a-8e02-14bb60eb4269",
   "metadata": {},
   "outputs": [
    {
     "name": "stdout",
     "output_type": "stream",
     "text": [
      "<class 'int'>\n"
     ]
    }
   ],
   "source": [
    "x=100\n",
    "print (type(x))"
   ]
  },
  {
   "cell_type": "code",
   "execution_count": 4,
   "id": "6eca7583-283d-4535-8b88-9347a450032c",
   "metadata": {},
   "outputs": [
    {
     "name": "stdout",
     "output_type": "stream",
     "text": [
      "<class 'float'>\n"
     ]
    }
   ],
   "source": [
    "x=55.55\n",
    "print (type(x))"
   ]
  },
  {
   "cell_type": "code",
   "execution_count": 5,
   "id": "8987f69c-22a1-4db7-8a70-debd0ea1fa4d",
   "metadata": {},
   "outputs": [
    {
     "name": "stdout",
     "output_type": "stream",
     "text": [
      "<class 'str'>\n"
     ]
    }
   ],
   "source": [
    "x=\"Python learning\"\n",
    "print (type(x))"
   ]
  },
  {
   "cell_type": "markdown",
   "id": "b60f4902-35aa-4322-a561-cac9d598187b",
   "metadata": {},
   "source": [
    "Not only these 3 there are no of datatypes as i said they are mainly used datatypes , and someother important datatypes are <br>\n",
    "list = list are defined as a set of values which can be replaceable or alterd , denoted in [] brackets <br>\n",
    "tuple = tuple are defined as a set of values which can not be replaceable or alterd , denoted in () brackets <br>\n"
   ]
  },
  {
   "cell_type": "code",
   "execution_count": 6,
   "id": "155a7f0d-9265-4bff-84ff-7277529f73ac",
   "metadata": {},
   "outputs": [
    {
     "name": "stdout",
     "output_type": "stream",
     "text": [
      "<class 'list'>\n"
     ]
    }
   ],
   "source": [
    "x=[2,4,6]\n",
    "print(type(x))"
   ]
  },
  {
   "cell_type": "code",
   "execution_count": 7,
   "id": "7fe7996a-fd0b-4ee2-b1ae-b92ed248fde3",
   "metadata": {},
   "outputs": [
    {
     "name": "stdout",
     "output_type": "stream",
     "text": [
      "<class 'tuple'>\n"
     ]
    }
   ],
   "source": [
    "x=(3,6,9)\n",
    "print(type(x))"
   ]
  },
  {
   "cell_type": "markdown",
   "id": "af181ffb-9ae3-4bfe-9052-a8161f553960",
   "metadata": {},
   "source": [
    "As i Said about replaceable !!\n"
   ]
  },
  {
   "cell_type": "code",
   "execution_count": 14,
   "id": "01c6b3be-7afd-409b-a25e-b1de45678146",
   "metadata": {},
   "outputs": [
    {
     "name": "stdout",
     "output_type": "stream",
     "text": [
      "[2, 4, 6]\n"
     ]
    }
   ],
   "source": [
    "x=[2,4,6]\n",
    "print(x)"
   ]
  },
  {
   "cell_type": "code",
   "execution_count": 15,
   "id": "9af783f1-34fa-4eb8-9743-d0871233026a",
   "metadata": {},
   "outputs": [
    {
     "name": "stdout",
     "output_type": "stream",
     "text": [
      "<class 'list'>\n",
      "[2, 8, 6]\n"
     ]
    }
   ],
   "source": [
    "print(type(x))\n",
    "x[1]=8\n",
    "print (x)"
   ]
  },
  {
   "cell_type": "markdown",
   "id": "535928de-575c-4d59-9027-4c90f8ad42ef",
   "metadata": {},
   "source": [
    "This is how in the list , the values can replaceable !!\n"
   ]
  },
  {
   "cell_type": "code",
   "execution_count": 16,
   "id": "3a80472a-5348-40f6-9bdc-ab17a13f2288",
   "metadata": {},
   "outputs": [
    {
     "name": "stdout",
     "output_type": "stream",
     "text": [
      "(3, 6, 9)\n"
     ]
    }
   ],
   "source": [
    "x=(3,6,9)\n",
    "print(x)"
   ]
  },
  {
   "cell_type": "code",
   "execution_count": 20,
   "id": "d1cdb6a7-b1d1-445e-aaae-8ce04c28c6af",
   "metadata": {},
   "outputs": [
    {
     "name": "stdout",
     "output_type": "stream",
     "text": [
      "<class 'tuple'>\n"
     ]
    },
    {
     "ename": "TypeError",
     "evalue": "'tuple' object does not support item assignment",
     "output_type": "error",
     "traceback": [
      "\u001b[1;31m---------------------------------------------------------------------------\u001b[0m",
      "\u001b[1;31mTypeError\u001b[0m                                 Traceback (most recent call last)",
      "Cell \u001b[1;32mIn[20], line 2\u001b[0m\n\u001b[0;32m      1\u001b[0m \u001b[38;5;28mprint\u001b[39m(\u001b[38;5;28mtype\u001b[39m(x))\n\u001b[1;32m----> 2\u001b[0m \u001b[43mx\u001b[49m\u001b[43m[\u001b[49m\u001b[38;5;241;43m0\u001b[39;49m\u001b[43m]\u001b[49m\u001b[38;5;241m=\u001b[39m\u001b[38;5;241m9\u001b[39m\n\u001b[0;32m      3\u001b[0m \u001b[38;5;28mprint\u001b[39m(x)\n",
      "\u001b[1;31mTypeError\u001b[0m: 'tuple' object does not support item assignment"
     ]
    }
   ],
   "source": [
    "print(type(x))\n",
    "x[0]=9\n",
    "print(x)"
   ]
  },
  {
   "cell_type": "markdown",
   "id": "9c731ab3-bb4e-41cb-88f6-5c8652bbc054",
   "metadata": {},
   "source": [
    "Here in Tuple , error says it does not support item assignment, the set of values are irreplaceable !!"
   ]
  },
  {
   "cell_type": "markdown",
   "id": "943da5c7-c558-4076-a1da-be860f83daf8",
   "metadata": {},
   "source": [
    "When there are more then 2 values to assign as variables , by default we do this "
   ]
  },
  {
   "cell_type": "code",
   "execution_count": 21,
   "id": "9f8c317c-e4e6-472c-81d5-8e38d92e7834",
   "metadata": {},
   "outputs": [
    {
     "name": "stdout",
     "output_type": "stream",
     "text": [
      "0\n"
     ]
    }
   ],
   "source": [
    "x=5\n",
    "y=10\n",
    "z=15\n",
    "print (x + y - z)"
   ]
  },
  {
   "cell_type": "markdown",
   "id": "18d6f604-20c4-4420-a0a1-3e1115181c5d",
   "metadata": {},
   "source": [
    "But we can also assign values as set , direct form "
   ]
  },
  {
   "cell_type": "code",
   "execution_count": 23,
   "id": "f22b5c09-316c-40b3-9355-0a3aa2aa265f",
   "metadata": {},
   "outputs": [
    {
     "name": "stdout",
     "output_type": "stream",
     "text": [
      "10\n"
     ]
    }
   ],
   "source": [
    "(x,y,z)=5,10,15\n",
    "print (x-y+z)"
   ]
  },
  {
   "cell_type": "markdown",
   "id": "82d78303-d9d4-4985-b360-d7afb9861a8e",
   "metadata": {},
   "source": [
    "works as same , to assign simply <br>\n",
    "and also when multiple variables as same value . then it writen simply "
   ]
  },
  {
   "cell_type": "code",
   "execution_count": 27,
   "id": "f8a58a61-4baf-4856-8b66-64f17e5f7200",
   "metadata": {},
   "outputs": [
    {
     "ename": "TypeError",
     "evalue": "cannot unpack non-iterable int object",
     "output_type": "error",
     "traceback": [
      "\u001b[1;31m---------------------------------------------------------------------------\u001b[0m",
      "\u001b[1;31mTypeError\u001b[0m                                 Traceback (most recent call last)",
      "Cell \u001b[1;32mIn[27], line 1\u001b[0m\n\u001b[1;32m----> 1\u001b[0m (x,y,z)\u001b[38;5;241m=\u001b[39m\u001b[38;5;241m5\u001b[39m \u001b[38;5;66;03m# cant assign single value for 3 variable \u001b[39;00m\n\u001b[0;32m      2\u001b[0m \u001b[38;5;28mprint\u001b[39m (y)\n",
      "\u001b[1;31mTypeError\u001b[0m: cannot unpack non-iterable int object"
     ]
    }
   ],
   "source": [
    "(x,y,z)=5 # cant assign single value for 3 variable \n",
    "print (y)"
   ]
  },
  {
   "cell_type": "code",
   "execution_count": 30,
   "id": "a29e4a4f-3057-41ea-b74f-879628d80ce5",
   "metadata": {},
   "outputs": [
    {
     "name": "stdout",
     "output_type": "stream",
     "text": [
      "5\n"
     ]
    }
   ],
   "source": [
    "x=y=z=5 # it assigns the same value within 3 variables  \n",
    "print(z)"
   ]
  },
  {
   "cell_type": "markdown",
   "id": "146f17ed-932a-4b27-b8fb-99cf9bac7af3",
   "metadata": {},
   "source": [
    "<h2>Naming the Variable</h2> "
   ]
  },
  {
   "cell_type": "code",
   "execution_count": 3,
   "id": "32457169-f294-485b-8df4-c96a7ce065bd",
   "metadata": {},
   "outputs": [
    {
     "name": "stdout",
     "output_type": "stream",
     "text": [
      "100 150\n"
     ]
    }
   ],
   "source": [
    "Sri=100 # variable name must be start with alphabet\n",
    "_Sri=150 # variable name can also be start with underscore\n",
    "print (Sri,_Sri)"
   ]
  },
  {
   "cell_type": "code",
   "execution_count": 6,
   "id": "2a52f6c3-83ec-413b-8a35-af3d34ecd30f",
   "metadata": {},
   "outputs": [
    {
     "ename": "SyntaxError",
     "evalue": "invalid decimal literal (3142312579.py, line 1)",
     "output_type": "error",
     "traceback": [
      "\u001b[1;36m  Cell \u001b[1;32mIn[6], line 1\u001b[1;36m\u001b[0m\n\u001b[1;33m    2ri=300 # variable name should not be number , it leads error\u001b[0m\n\u001b[1;37m    ^\u001b[0m\n\u001b[1;31mSyntaxError\u001b[0m\u001b[1;31m:\u001b[0m invalid decimal literal\n"
     ]
    }
   ],
   "source": [
    "2ri=300 # variable name should not be number , it leads error "
   ]
  },
  {
   "cell_type": "code",
   "execution_count": 7,
   "id": "e2dd07a5-851e-4121-8456-ed2937eefa00",
   "metadata": {},
   "outputs": [
    {
     "ename": "SyntaxError",
     "evalue": "invalid syntax. Maybe you meant '==' or ':=' instead of '='? (896272587.py, line 1)",
     "output_type": "error",
     "traceback": [
      "\u001b[1;36m  Cell \u001b[1;32mIn[7], line 1\u001b[1;36m\u001b[0m\n\u001b[1;33m    @ha=500 # variable name should not be speacial characters , it leads error\u001b[0m\n\u001b[1;37m     ^\u001b[0m\n\u001b[1;31mSyntaxError\u001b[0m\u001b[1;31m:\u001b[0m invalid syntax. Maybe you meant '==' or ':=' instead of '='?\n"
     ]
    }
   ],
   "source": [
    "@ha=500 # variable name should not be speacial characters , it leads error "
   ]
  },
  {
   "cell_type": "code",
   "execution_count": 8,
   "id": "861c91e3-51be-4ebc-a920-6372180af6bd",
   "metadata": {},
   "outputs": [
    {
     "name": "stdout",
     "output_type": "stream",
     "text": [
      "500\n"
     ]
    }
   ],
   "source": [
    "Sr100=500 # following with alphabet the variable name can have numbers \n",
    "print (Sr100)"
   ]
  },
  {
   "cell_type": "code",
   "execution_count": 10,
   "id": "ac7ede0d-dd2d-4399-a9ad-23a42be9cb90",
   "metadata": {},
   "outputs": [
    {
     "ename": "NameError",
     "evalue": "name 'Sr' is not defined",
     "output_type": "error",
     "traceback": [
      "\u001b[1;31m---------------------------------------------------------------------------\u001b[0m",
      "\u001b[1;31mNameError\u001b[0m                                 Traceback (most recent call last)",
      "Cell \u001b[1;32mIn[10], line 1\u001b[0m\n\u001b[1;32m----> 1\u001b[0m \u001b[43mSr\u001b[49m\u001b[38;5;241m!=\u001b[39m\u001b[38;5;241m400\u001b[39m \u001b[38;5;66;03m# following with alphabet the variable name can not have speacial numbers \u001b[39;00m\n",
      "\u001b[1;31mNameError\u001b[0m: name 'Sr' is not defined"
     ]
    }
   ],
   "source": [
    "Sr!=400 # following with alphabet the variable name can not have speacial numbers "
   ]
  },
  {
   "cell_type": "markdown",
   "id": "78ba4e1a-fe6d-4275-aaaa-81eadf44eb8c",
   "metadata": {},
   "source": [
    "Speacial characters in any place of name of the variable is results error"
   ]
  },
  {
   "cell_type": "markdown",
   "id": "a7ac8715-304f-4cad-9a5e-1d86adbed93b",
   "metadata": {},
   "source": [
    "Looking at the alphabets , the variable names are case sensitive , uppercase of an alphabet and lowercase of an alphabet of same are considered differently . "
   ]
  },
  {
   "cell_type": "markdown",
   "id": "c9ee748c-28c8-4a68-af58-df45e6abcdaf",
   "metadata": {},
   "source": [
    "variable names cannot be have the words of datatypes like , int , char , float , break , continue , try etc "
   ]
  },
  {
   "cell_type": "code",
   "execution_count": 12,
   "id": "615f94e4-361f-47b1-b688-4c15bf467d63",
   "metadata": {},
   "outputs": [
    {
     "ename": "SyntaxError",
     "evalue": "invalid syntax (4241880107.py, line 1)",
     "output_type": "error",
     "traceback": [
      "\u001b[1;36m  Cell \u001b[1;32mIn[12], line 1\u001b[1;36m\u001b[0m\n\u001b[1;33m    class=500 # class is a datatype\u001b[0m\n\u001b[1;37m         ^\u001b[0m\n\u001b[1;31mSyntaxError\u001b[0m\u001b[1;31m:\u001b[0m invalid syntax\n"
     ]
    }
   ],
   "source": [
    "class=500 # class is a datatype \n",
    "print (class)"
   ]
  },
  {
   "cell_type": "markdown",
   "id": "2b8a5298-8c44-4ffc-8c48-ef7281ca75ea",
   "metadata": {},
   "source": [
    "<h1>Arthemetic Operations </h1><br>\n",
    "Operations which defined as arthemetic format like , addition , subtraction , multiplication , division , modulas ."
   ]
  },
  {
   "cell_type": "code",
   "execution_count": 17,
   "id": "5b4ca406-e186-4b05-b169-c46d30736808",
   "metadata": {},
   "outputs": [
    {
     "name": "stdout",
     "output_type": "stream",
     "text": [
      "50\n",
      "-10\n",
      "600\n",
      "0.6666666666666666\n",
      "20\n"
     ]
    }
   ],
   "source": [
    "x=20\n",
    "y=30\n",
    "print (x+y) # addition arthemetic operation \n",
    "print (x-y) # subtraction arthemetic operation\n",
    "print (x*y) # multiplication arthemetic operation \n",
    "print (x/y) # division arthemetic operation\n",
    "print (x%y) # modules arthemetic operation"
   ]
  },
  {
   "cell_type": "markdown",
   "id": "e4671426-1a1d-4f7a-9fde-4af229397f1c",
   "metadata": {},
   "source": [
    "<h1> String operations </h1>"
   ]
  },
  {
   "cell_type": "code",
   "execution_count": 20,
   "id": "47636a06-7a43-4223-b30a-a1bcd51c5410",
   "metadata": {},
   "outputs": [
    {
     "name": "stdout",
     "output_type": "stream",
     "text": [
      "Sriharsha Reddy\n"
     ]
    }
   ],
   "source": [
    "var=\"Sriharsha Reddy\"\n",
    "print (var)"
   ]
  },
  {
   "cell_type": "code",
   "execution_count": 21,
   "id": "a40e0a18-cbad-4b17-be03-9270846e597f",
   "metadata": {},
   "outputs": [
    {
     "name": "stdout",
     "output_type": "stream",
     "text": [
      "Reddy\n"
     ]
    }
   ],
   "source": [
    "print (var[10:16])"
   ]
  },
  {
   "cell_type": "code",
   "execution_count": 24,
   "id": "61e95471-d162-4d0f-a7e5-76d0980579cb",
   "metadata": {},
   "outputs": [
    {
     "name": "stdout",
     "output_type": "stream",
     "text": [
      "S r R\n"
     ]
    }
   ],
   "source": [
    "print (var[0] , var[5] ,var[10])"
   ]
  },
  {
   "cell_type": "code",
   "execution_count": 26,
   "id": "1a7b5ff0-ddc1-4f55-abc5-447aa1bd3e67",
   "metadata": {},
   "outputs": [
    {
     "data": {
      "text/plain": [
       "15"
      ]
     },
     "execution_count": 26,
     "metadata": {},
     "output_type": "execute_result"
    }
   ],
   "source": [
    "len(var) # this determines the length of the string , no of characters"
   ]
  },
  {
   "cell_type": "code",
   "execution_count": null,
   "id": "d45b7a5b-f59d-476d-b34c-98a43ab40930",
   "metadata": {},
   "outputs": [],
   "source": []
  }
 ],
 "metadata": {
  "kernelspec": {
   "display_name": "Python 3 (ipykernel)",
   "language": "python",
   "name": "python3"
  },
  "language_info": {
   "codemirror_mode": {
    "name": "ipython",
    "version": 3
   },
   "file_extension": ".py",
   "mimetype": "text/x-python",
   "name": "python",
   "nbconvert_exporter": "python",
   "pygments_lexer": "ipython3",
   "version": "3.10.0"
  }
 },
 "nbformat": 4,
 "nbformat_minor": 5
}
