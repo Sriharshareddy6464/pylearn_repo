{
 "cells": [
  {
   "cell_type": "markdown",
   "id": "27db03a2-a461-483d-b9a9-7e8318e5d924",
   "metadata": {},
   "source": [
    "<h1>Strings</h1>\n",
    "Strings are defined as collection of charactors , word structured values are strings <br>\n",
    "Strings denoted as (\" \") in commas  "
   ]
  },
  {
   "cell_type": "code",
   "execution_count": 1,
   "id": "3704892a-ea6b-4358-83a2-9f6f816bfd24",
   "metadata": {},
   "outputs": [
    {
     "name": "stdout",
     "output_type": "stream",
     "text": [
      "Simplilearn\n"
     ]
    }
   ],
   "source": [
    "str= 'Simplilearn'\n",
    "print(str)"
   ]
  },
  {
   "cell_type": "code",
   "execution_count": 2,
   "id": "e429ac85-c3a2-493b-97a1-94db57f8d351",
   "metadata": {},
   "outputs": [
    {
     "ename": "SyntaxError",
     "evalue": "unterminated string literal (detected at line 1) (308551216.py, line 1)",
     "output_type": "error",
     "traceback": [
      "\u001b[1;36m  Cell \u001b[1;32mIn[2], line 1\u001b[1;36m\u001b[0m\n\u001b[1;33m    str= 'Tim's birthday'\u001b[0m\n\u001b[1;37m                        ^\u001b[0m\n\u001b[1;31mSyntaxError\u001b[0m\u001b[1;31m:\u001b[0m unterminated string literal (detected at line 1)\n"
     ]
    }
   ],
   "source": [
    "str= 'Tim's birthday'\n",
    "print(str)"
   ]
  },
  {
   "cell_type": "markdown",
   "id": "3d3f8a12-57ee-487c-861e-c35f6838d309",
   "metadata": {},
   "source": [
    "here there are more ' ' single qoutes thats results error to the syntax , so when more single qoutes needed , use \" \" double qoutes"
   ]
  },
  {
   "cell_type": "code",
   "execution_count": 3,
   "id": "4f0e2e2f-f6bc-4324-8908-bc388e8c9138",
   "metadata": {},
   "outputs": [
    {
     "name": "stdout",
     "output_type": "stream",
     "text": [
      "Tim's birthday\n"
     ]
    }
   ],
   "source": [
    "str= \"Tim's birthday\"\n",
    "print(str)"
   ]
  },
  {
   "cell_type": "code",
   "execution_count": 4,
   "id": "d3fa31fc-0771-40f4-9abc-7514623476c0",
   "metadata": {},
   "outputs": [
    {
     "name": "stdout",
     "output_type": "stream",
     "text": [
      "Tim said, \" im busy \" \n"
     ]
    }
   ],
   "source": [
    "str= 'Tim said, \" im busy \" '\n",
    "print(str) # here the string in both qoutes "
   ]
  },
  {
   "cell_type": "code",
   "execution_count": 5,
   "id": "58ab2e24-2779-4109-84d5-cc6aa38c7de1",
   "metadata": {},
   "outputs": [
    {
     "name": "stdout",
     "output_type": "stream",
     "text": [
      "Tim said,\" I'm Busy \"\n"
     ]
    }
   ],
   "source": [
    "str= 'Tim said,\" I\\'m Busy \"' # here \\ represents to single qoute to represent as aphostrophy\n",
    "print(str)"
   ]
  },
  {
   "cell_type": "code",
   "execution_count": 6,
   "id": "bc38cd06-a042-417b-8517-90c382c577bc",
   "metadata": {},
   "outputs": [
    {
     "ename": "SyntaxError",
     "evalue": "unterminated string literal (detected at line 1) (209492356.py, line 1)",
     "output_type": "error",
     "traceback": [
      "\u001b[1;36m  Cell \u001b[1;32mIn[6], line 1\u001b[1;36m\u001b[0m\n\u001b[1;33m    str= 'good morning\u001b[0m\n\u001b[1;37m         ^\u001b[0m\n\u001b[1;31mSyntaxError\u001b[0m\u001b[1;31m:\u001b[0m unterminated string literal (detected at line 1)\n"
     ]
    }
   ],
   "source": [
    "str= 'good morning\n",
    "welcome to hyderabad'\n",
    "print(str) # its doesnt get to the secondline ....string single and double qoutes doesnt get single line "
   ]
  },
  {
   "cell_type": "code",
   "execution_count": 7,
   "id": "53dba045-aa4c-4f25-a29d-eea3fa1f2704",
   "metadata": {},
   "outputs": [
    {
     "name": "stdout",
     "output_type": "stream",
     "text": [
      "good morning \n",
      "welcome to hyderabad\n"
     ]
    }
   ],
   "source": [
    "str= '''good morning \n",
    "welcome to hyderabad''' \n",
    "print (str) # to multiple line sting we use triple qoutes ''' ''' like this or as well as \"\"\" \"\"\" also "
   ]
  },
  {
   "cell_type": "code",
   "execution_count": 8,
   "id": "23177865-a6f2-4b79-958e-cfe270d9c458",
   "metadata": {},
   "outputs": [
    {
     "name": "stdout",
     "output_type": "stream",
     "text": [
      "S\n",
      "i\n",
      "m\n",
      "p\n",
      "l\n",
      "i\n",
      "l\n",
      "e\n",
      "a\n",
      "r\n",
      "n\n"
     ]
    }
   ],
   "source": [
    "str= 'Simplilearn'\n",
    "for i in str :  # start from i index 0 to whole string\n",
    "   print(i)"
   ]
  },
  {
   "cell_type": "code",
   "execution_count": 9,
   "id": "c788ebf2-8e54-44e8-af94-f3b3184812c4",
   "metadata": {},
   "outputs": [
    {
     "name": "stdout",
     "output_type": "stream",
     "text": [
      "Simplilearn"
     ]
    }
   ],
   "source": [
    "str= 'Simplilearn'\n",
    "for i in str :  # start from i index 0 to whole string\n",
    "   print(i,end=\"\") # this prints side by side "
   ]
  },
  {
   "cell_type": "code",
   "execution_count": 10,
   "id": "8e380bd9-69f8-4567-a671-a398531e98d9",
   "metadata": {},
   "outputs": [
    {
     "name": "stdout",
     "output_type": "stream",
     "text": [
      "Simpl\n",
      "plilearn\n",
      "Simplilea\n"
     ]
    }
   ],
   "source": [
    "str= \"Simplilearn\"\n",
    "print(str[0:5]) # indexing start with 0 end with 5 \n",
    "print(str[3:]) # indexing start with 0 end with last defaultly as it doesnt mention \n",
    "print(str[:9]) # indexing start with default with 0 as its doesnt mention "
   ]
  },
  {
   "cell_type": "code",
   "execution_count": 11,
   "id": "827391c2-68fb-44ed-a91b-da59af8b3fc2",
   "metadata": {},
   "outputs": [
    {
     "name": "stdout",
     "output_type": "stream",
     "text": [
      "WELCOME TO THE HYDERABAD\n",
      "welcome to the hyderabad\n"
     ]
    }
   ],
   "source": [
    "str= \"Welcome To The Hyderabad\"\n",
    "print(str.upper())\n",
    "print(str.lower())"
   ]
  },
  {
   "cell_type": "code",
   "execution_count": 12,
   "id": "1a660f88-9592-4487-a2d1-06aba7ba9dfd",
   "metadata": {},
   "outputs": [
    {
     "name": "stdout",
     "output_type": "stream",
     "text": [
      "8\n",
      "8\n"
     ]
    }
   ],
   "source": [
    "print(str.find('T'))\n",
    "print(str.index('T'))"
   ]
  },
  {
   "cell_type": "code",
   "execution_count": 13,
   "id": "9db9a69e-4fc6-44f1-ae18-a837e04e7a90",
   "metadata": {},
   "outputs": [
    {
     "name": "stdout",
     "output_type": "stream",
     "text": [
      "['Welcome', 'To', 'The', 'Hyderabad']\n"
     ]
    }
   ],
   "source": [
    "print(str.split(\" \")) # to seperate the word from sentence"
   ]
  },
  {
   "cell_type": "code",
   "execution_count": 15,
   "id": "d9c4da16-d561-45d3-bc45-0a50d7cc4419",
   "metadata": {},
   "outputs": [
    {
     "name": "stdout",
     "output_type": "stream",
     "text": [
      "['Welcome', 'To', 'The', 'Hyderabad']\n"
     ]
    }
   ],
   "source": [
    "x= str.split(\" \") # rather than direct function we sometimes determine variable\n",
    "print(x)"
   ]
  },
  {
   "cell_type": "code",
   "execution_count": 17,
   "id": "878d0146-87a7-4f85-a9ec-5d32d7c269e8",
   "metadata": {},
   "outputs": [
    {
     "name": "stdout",
     "output_type": "stream",
     "text": [
      "Welcome To The India\n"
     ]
    }
   ],
   "source": [
    "print(str.replace(\"Hyderabad\",\"India\")) # replace defines exsisting string change to another string "
   ]
  },
  {
   "cell_type": "code",
   "execution_count": 19,
   "id": "910b1f77-0e42-4799-ac2e-96cb10612c10",
   "metadata": {},
   "outputs": [
    {
     "name": "stdout",
     "output_type": "stream",
     "text": [
      "('Welcome', ' To ', 'The Hyderabad')\n"
     ]
    }
   ],
   "source": [
    "print(str.rpartition(\" To \"))"
   ]
  },
  {
   "cell_type": "code",
   "execution_count": 21,
   "id": "9f53052b-f997-4bc4-8eb6-98f469821ec7",
   "metadata": {},
   "outputs": [
    {
     "name": "stdout",
     "output_type": "stream",
     "text": [
      "Good Morning\n"
     ]
    }
   ],
   "source": [
    "str1= \"Good\"\n",
    "str2= \"Morning\"\n",
    "str= str1+\" \"+str2 # adding both string which are assigned as variable \n",
    "print(str)"
   ]
  },
  {
   "cell_type": "code",
   "execution_count": 23,
   "id": "8d854568-beb0-472a-9143-c520399ad94d",
   "metadata": {},
   "outputs": [
    {
     "name": "stdout",
     "output_type": "stream",
     "text": [
      "Hey there! how tfru?\n"
     ]
    }
   ],
   "source": [
    "str1 = \"Hey\"\n",
    "str2 = \"there\"\n",
    "str3 = \"how tfru\"\n",
    "str= \"{} {}! {}?\".format(str1,str2,str3) # format function is defined as determining a set of variables in a specific manner \n",
    "print(str)"
   ]
  },
  {
   "cell_type": "markdown",
   "id": "9fc15f1e-d8b5-4b52-aa04-d29e1d6a3688",
   "metadata": {},
   "source": [
    "<h1> Dictionaries </h1>\n",
    "dictionaries are the unordered collections of data stored "
   ]
  },
  {
   "cell_type": "code",
   "execution_count": null,
   "id": "b4f30a7b-e214-4820-84ef-64a57a2d278b",
   "metadata": {},
   "outputs": [],
   "source": []
  },
  {
   "cell_type": "code",
   "execution_count": null,
   "id": "b4663fe3-06ee-468f-b41a-ddc69ef8d872",
   "metadata": {},
   "outputs": [],
   "source": []
  },
  {
   "cell_type": "code",
   "execution_count": null,
   "id": "009487bf-3525-46a0-bb2c-e6644817bfe2",
   "metadata": {},
   "outputs": [],
   "source": []
  },
  {
   "cell_type": "code",
   "execution_count": null,
   "id": "2e123e2f-4d5c-415b-bdf3-e4c9239f9fe0",
   "metadata": {},
   "outputs": [],
   "source": []
  },
  {
   "cell_type": "code",
   "execution_count": null,
   "id": "8ae034f4-1759-4bec-964f-c658c3b69bf6",
   "metadata": {},
   "outputs": [],
   "source": []
  },
  {
   "cell_type": "code",
   "execution_count": null,
   "id": "9221b99c-4e9f-46a7-9d9a-e87a1ecec11a",
   "metadata": {},
   "outputs": [],
   "source": []
  },
  {
   "cell_type": "code",
   "execution_count": null,
   "id": "e323998b-9433-4b2b-b459-fd13eabb53e7",
   "metadata": {},
   "outputs": [],
   "source": []
  },
  {
   "cell_type": "code",
   "execution_count": null,
   "id": "0193d122-04d4-4a6b-a765-caf52b9a3ada",
   "metadata": {},
   "outputs": [],
   "source": []
  }
 ],
 "metadata": {
  "kernelspec": {
   "display_name": "Python 3 (ipykernel)",
   "language": "python",
   "name": "python3"
  },
  "language_info": {
   "codemirror_mode": {
    "name": "ipython",
    "version": 3
   },
   "file_extension": ".py",
   "mimetype": "text/x-python",
   "name": "python",
   "nbconvert_exporter": "python",
   "pygments_lexer": "ipython3",
   "version": "3.10.0"
  }
 },
 "nbformat": 4,
 "nbformat_minor": 5
}
